{
 "cells": [
  {
   "cell_type": "markdown",
   "id": "9c7acebd",
   "metadata": {
    "papermill": {
     "duration": 0.010808,
     "end_time": "2023-08-22T05:57:45.666432",
     "exception": false,
     "start_time": "2023-08-22T05:57:45.655624",
     "status": "completed"
    },
    "tags": []
   },
   "source": [
    "# **TITANIC SURVIVAL PREDICTION**"
   ]
  },
  {
   "cell_type": "markdown",
   "id": "64514643",
   "metadata": {
    "papermill": {
     "duration": 0.010109,
     "end_time": "2023-08-22T05:57:45.687498",
     "exception": false,
     "start_time": "2023-08-22T05:57:45.677389",
     "status": "completed"
    },
    "tags": []
   },
   "source": [
    "# **GENESIS: BIRTH OF DATA**"
   ]
  },
  {
   "cell_type": "code",
   "execution_count": 1,
   "id": "4a44dba9",
   "metadata": {
    "execution": {
     "iopub.execute_input": "2023-08-22T05:57:45.712074Z",
     "iopub.status.busy": "2023-08-22T05:57:45.710629Z",
     "iopub.status.idle": "2023-08-22T05:57:45.726623Z",
     "shell.execute_reply": "2023-08-22T05:57:45.725327Z"
    },
    "papermill": {
     "duration": 0.03176,
     "end_time": "2023-08-22T05:57:45.729629",
     "exception": false,
     "start_time": "2023-08-22T05:57:45.697869",
     "status": "completed"
    },
    "tags": []
   },
   "outputs": [],
   "source": [
    "import pandas as pd\n",
    "import numpy as np"
   ]
  },
  {
   "cell_type": "code",
   "execution_count": 2,
   "id": "e57be34e",
   "metadata": {
    "execution": {
     "iopub.execute_input": "2023-08-22T05:57:45.752505Z",
     "iopub.status.busy": "2023-08-22T05:57:45.752064Z",
     "iopub.status.idle": "2023-08-22T05:57:45.802939Z",
     "shell.execute_reply": "2023-08-22T05:57:45.802132Z"
    },
    "papermill": {
     "duration": 0.06511,
     "end_time": "2023-08-22T05:57:45.805347",
     "exception": false,
     "start_time": "2023-08-22T05:57:45.740237",
     "status": "completed"
    },
    "tags": []
   },
   "outputs": [
    {
     "data": {
      "text/html": [
       "<div>\n",
       "<style scoped>\n",
       "    .dataframe tbody tr th:only-of-type {\n",
       "        vertical-align: middle;\n",
       "    }\n",
       "\n",
       "    .dataframe tbody tr th {\n",
       "        vertical-align: top;\n",
       "    }\n",
       "\n",
       "    .dataframe thead th {\n",
       "        text-align: right;\n",
       "    }\n",
       "</style>\n",
       "<table border=\"1\" class=\"dataframe\">\n",
       "  <thead>\n",
       "    <tr style=\"text-align: right;\">\n",
       "      <th></th>\n",
       "      <th>PassengerId</th>\n",
       "      <th>Survived</th>\n",
       "      <th>Pclass</th>\n",
       "      <th>Name</th>\n",
       "      <th>Sex</th>\n",
       "      <th>Age</th>\n",
       "      <th>SibSp</th>\n",
       "      <th>Parch</th>\n",
       "      <th>Ticket</th>\n",
       "      <th>Fare</th>\n",
       "      <th>Cabin</th>\n",
       "      <th>Embarked</th>\n",
       "    </tr>\n",
       "  </thead>\n",
       "  <tbody>\n",
       "    <tr>\n",
       "      <th>0</th>\n",
       "      <td>892</td>\n",
       "      <td>0</td>\n",
       "      <td>3</td>\n",
       "      <td>Kelly, Mr. James</td>\n",
       "      <td>male</td>\n",
       "      <td>34.5</td>\n",
       "      <td>0</td>\n",
       "      <td>0</td>\n",
       "      <td>330911</td>\n",
       "      <td>7.8292</td>\n",
       "      <td>NaN</td>\n",
       "      <td>Q</td>\n",
       "    </tr>\n",
       "    <tr>\n",
       "      <th>1</th>\n",
       "      <td>893</td>\n",
       "      <td>1</td>\n",
       "      <td>3</td>\n",
       "      <td>Wilkes, Mrs. James (Ellen Needs)</td>\n",
       "      <td>female</td>\n",
       "      <td>47.0</td>\n",
       "      <td>1</td>\n",
       "      <td>0</td>\n",
       "      <td>363272</td>\n",
       "      <td>7.0000</td>\n",
       "      <td>NaN</td>\n",
       "      <td>S</td>\n",
       "    </tr>\n",
       "    <tr>\n",
       "      <th>2</th>\n",
       "      <td>894</td>\n",
       "      <td>0</td>\n",
       "      <td>2</td>\n",
       "      <td>Myles, Mr. Thomas Francis</td>\n",
       "      <td>male</td>\n",
       "      <td>62.0</td>\n",
       "      <td>0</td>\n",
       "      <td>0</td>\n",
       "      <td>240276</td>\n",
       "      <td>9.6875</td>\n",
       "      <td>NaN</td>\n",
       "      <td>Q</td>\n",
       "    </tr>\n",
       "    <tr>\n",
       "      <th>3</th>\n",
       "      <td>895</td>\n",
       "      <td>0</td>\n",
       "      <td>3</td>\n",
       "      <td>Wirz, Mr. Albert</td>\n",
       "      <td>male</td>\n",
       "      <td>27.0</td>\n",
       "      <td>0</td>\n",
       "      <td>0</td>\n",
       "      <td>315154</td>\n",
       "      <td>8.6625</td>\n",
       "      <td>NaN</td>\n",
       "      <td>S</td>\n",
       "    </tr>\n",
       "    <tr>\n",
       "      <th>4</th>\n",
       "      <td>896</td>\n",
       "      <td>1</td>\n",
       "      <td>3</td>\n",
       "      <td>Hirvonen, Mrs. Alexander (Helga E Lindqvist)</td>\n",
       "      <td>female</td>\n",
       "      <td>22.0</td>\n",
       "      <td>1</td>\n",
       "      <td>1</td>\n",
       "      <td>3101298</td>\n",
       "      <td>12.2875</td>\n",
       "      <td>NaN</td>\n",
       "      <td>S</td>\n",
       "    </tr>\n",
       "  </tbody>\n",
       "</table>\n",
       "</div>"
      ],
      "text/plain": [
       "   PassengerId  Survived  Pclass  \\\n",
       "0          892         0       3   \n",
       "1          893         1       3   \n",
       "2          894         0       2   \n",
       "3          895         0       3   \n",
       "4          896         1       3   \n",
       "\n",
       "                                           Name     Sex   Age  SibSp  Parch  \\\n",
       "0                              Kelly, Mr. James    male  34.5      0      0   \n",
       "1              Wilkes, Mrs. James (Ellen Needs)  female  47.0      1      0   \n",
       "2                     Myles, Mr. Thomas Francis    male  62.0      0      0   \n",
       "3                              Wirz, Mr. Albert    male  27.0      0      0   \n",
       "4  Hirvonen, Mrs. Alexander (Helga E Lindqvist)  female  22.0      1      1   \n",
       "\n",
       "    Ticket     Fare Cabin Embarked  \n",
       "0   330911   7.8292   NaN        Q  \n",
       "1   363272   7.0000   NaN        S  \n",
       "2   240276   9.6875   NaN        Q  \n",
       "3   315154   8.6625   NaN        S  \n",
       "4  3101298  12.2875   NaN        S  "
      ]
     },
     "execution_count": 2,
     "metadata": {},
     "output_type": "execute_result"
    }
   ],
   "source": [
    "df= pd.read_csv('/kaggle/input/test-file/tested.csv')\n",
    "df.head(5)"
   ]
  },
  {
   "cell_type": "markdown",
   "id": "de574a8e",
   "metadata": {
    "papermill": {
     "duration": 0.010352,
     "end_time": "2023-08-22T05:57:45.827792",
     "exception": false,
     "start_time": "2023-08-22T05:57:45.817440",
     "status": "completed"
    },
    "tags": []
   },
   "source": [
    "# **NOVA: THE PREPROCESSING**"
   ]
  },
  {
   "cell_type": "code",
   "execution_count": 3,
   "id": "ce25bb59",
   "metadata": {
    "execution": {
     "iopub.execute_input": "2023-08-22T05:57:45.852056Z",
     "iopub.status.busy": "2023-08-22T05:57:45.851327Z",
     "iopub.status.idle": "2023-08-22T05:57:45.890414Z",
     "shell.execute_reply": "2023-08-22T05:57:45.889158Z"
    },
    "papermill": {
     "duration": 0.053977,
     "end_time": "2023-08-22T05:57:45.893122",
     "exception": false,
     "start_time": "2023-08-22T05:57:45.839145",
     "status": "completed"
    },
    "tags": []
   },
   "outputs": [
    {
     "data": {
      "text/html": [
       "<div>\n",
       "<style scoped>\n",
       "    .dataframe tbody tr th:only-of-type {\n",
       "        vertical-align: middle;\n",
       "    }\n",
       "\n",
       "    .dataframe tbody tr th {\n",
       "        vertical-align: top;\n",
       "    }\n",
       "\n",
       "    .dataframe thead th {\n",
       "        text-align: right;\n",
       "    }\n",
       "</style>\n",
       "<table border=\"1\" class=\"dataframe\">\n",
       "  <thead>\n",
       "    <tr style=\"text-align: right;\">\n",
       "      <th></th>\n",
       "      <th>PassengerId</th>\n",
       "      <th>Survived</th>\n",
       "      <th>Pclass</th>\n",
       "      <th>Age</th>\n",
       "      <th>SibSp</th>\n",
       "      <th>Parch</th>\n",
       "      <th>Fare</th>\n",
       "    </tr>\n",
       "  </thead>\n",
       "  <tbody>\n",
       "    <tr>\n",
       "      <th>count</th>\n",
       "      <td>418.000000</td>\n",
       "      <td>418.000000</td>\n",
       "      <td>418.000000</td>\n",
       "      <td>332.000000</td>\n",
       "      <td>418.000000</td>\n",
       "      <td>418.000000</td>\n",
       "      <td>417.000000</td>\n",
       "    </tr>\n",
       "    <tr>\n",
       "      <th>mean</th>\n",
       "      <td>1100.500000</td>\n",
       "      <td>0.363636</td>\n",
       "      <td>2.265550</td>\n",
       "      <td>30.272590</td>\n",
       "      <td>0.447368</td>\n",
       "      <td>0.392344</td>\n",
       "      <td>35.627188</td>\n",
       "    </tr>\n",
       "    <tr>\n",
       "      <th>std</th>\n",
       "      <td>120.810458</td>\n",
       "      <td>0.481622</td>\n",
       "      <td>0.841838</td>\n",
       "      <td>14.181209</td>\n",
       "      <td>0.896760</td>\n",
       "      <td>0.981429</td>\n",
       "      <td>55.907576</td>\n",
       "    </tr>\n",
       "    <tr>\n",
       "      <th>min</th>\n",
       "      <td>892.000000</td>\n",
       "      <td>0.000000</td>\n",
       "      <td>1.000000</td>\n",
       "      <td>0.170000</td>\n",
       "      <td>0.000000</td>\n",
       "      <td>0.000000</td>\n",
       "      <td>0.000000</td>\n",
       "    </tr>\n",
       "    <tr>\n",
       "      <th>25%</th>\n",
       "      <td>996.250000</td>\n",
       "      <td>0.000000</td>\n",
       "      <td>1.000000</td>\n",
       "      <td>21.000000</td>\n",
       "      <td>0.000000</td>\n",
       "      <td>0.000000</td>\n",
       "      <td>7.895800</td>\n",
       "    </tr>\n",
       "    <tr>\n",
       "      <th>50%</th>\n",
       "      <td>1100.500000</td>\n",
       "      <td>0.000000</td>\n",
       "      <td>3.000000</td>\n",
       "      <td>27.000000</td>\n",
       "      <td>0.000000</td>\n",
       "      <td>0.000000</td>\n",
       "      <td>14.454200</td>\n",
       "    </tr>\n",
       "    <tr>\n",
       "      <th>75%</th>\n",
       "      <td>1204.750000</td>\n",
       "      <td>1.000000</td>\n",
       "      <td>3.000000</td>\n",
       "      <td>39.000000</td>\n",
       "      <td>1.000000</td>\n",
       "      <td>0.000000</td>\n",
       "      <td>31.500000</td>\n",
       "    </tr>\n",
       "    <tr>\n",
       "      <th>max</th>\n",
       "      <td>1309.000000</td>\n",
       "      <td>1.000000</td>\n",
       "      <td>3.000000</td>\n",
       "      <td>76.000000</td>\n",
       "      <td>8.000000</td>\n",
       "      <td>9.000000</td>\n",
       "      <td>512.329200</td>\n",
       "    </tr>\n",
       "  </tbody>\n",
       "</table>\n",
       "</div>"
      ],
      "text/plain": [
       "       PassengerId    Survived      Pclass         Age       SibSp  \\\n",
       "count   418.000000  418.000000  418.000000  332.000000  418.000000   \n",
       "mean   1100.500000    0.363636    2.265550   30.272590    0.447368   \n",
       "std     120.810458    0.481622    0.841838   14.181209    0.896760   \n",
       "min     892.000000    0.000000    1.000000    0.170000    0.000000   \n",
       "25%     996.250000    0.000000    1.000000   21.000000    0.000000   \n",
       "50%    1100.500000    0.000000    3.000000   27.000000    0.000000   \n",
       "75%    1204.750000    1.000000    3.000000   39.000000    1.000000   \n",
       "max    1309.000000    1.000000    3.000000   76.000000    8.000000   \n",
       "\n",
       "            Parch        Fare  \n",
       "count  418.000000  417.000000  \n",
       "mean     0.392344   35.627188  \n",
       "std      0.981429   55.907576  \n",
       "min      0.000000    0.000000  \n",
       "25%      0.000000    7.895800  \n",
       "50%      0.000000   14.454200  \n",
       "75%      0.000000   31.500000  \n",
       "max      9.000000  512.329200  "
      ]
     },
     "execution_count": 3,
     "metadata": {},
     "output_type": "execute_result"
    }
   ],
   "source": [
    "df.describe()"
   ]
  },
  {
   "cell_type": "code",
   "execution_count": 4,
   "id": "95cddfbf",
   "metadata": {
    "execution": {
     "iopub.execute_input": "2023-08-22T05:57:45.917093Z",
     "iopub.status.busy": "2023-08-22T05:57:45.916679Z",
     "iopub.status.idle": "2023-08-22T05:57:45.925377Z",
     "shell.execute_reply": "2023-08-22T05:57:45.924228Z"
    },
    "papermill": {
     "duration": 0.023355,
     "end_time": "2023-08-22T05:57:45.927709",
     "exception": false,
     "start_time": "2023-08-22T05:57:45.904354",
     "status": "completed"
    },
    "tags": []
   },
   "outputs": [
    {
     "data": {
      "text/plain": [
       "PassengerId      int64\n",
       "Survived         int64\n",
       "Pclass           int64\n",
       "Name            object\n",
       "Sex             object\n",
       "Age            float64\n",
       "SibSp            int64\n",
       "Parch            int64\n",
       "Ticket          object\n",
       "Fare           float64\n",
       "Cabin           object\n",
       "Embarked        object\n",
       "dtype: object"
      ]
     },
     "execution_count": 4,
     "metadata": {},
     "output_type": "execute_result"
    }
   ],
   "source": [
    "df.dtypes"
   ]
  },
  {
   "cell_type": "code",
   "execution_count": 5,
   "id": "425af15d",
   "metadata": {
    "execution": {
     "iopub.execute_input": "2023-08-22T05:57:45.952420Z",
     "iopub.status.busy": "2023-08-22T05:57:45.951652Z",
     "iopub.status.idle": "2023-08-22T05:57:45.961032Z",
     "shell.execute_reply": "2023-08-22T05:57:45.959778Z"
    },
    "papermill": {
     "duration": 0.024459,
     "end_time": "2023-08-22T05:57:45.963446",
     "exception": false,
     "start_time": "2023-08-22T05:57:45.938987",
     "status": "completed"
    },
    "tags": []
   },
   "outputs": [
    {
     "data": {
      "text/plain": [
       "PassengerId      0\n",
       "Survived         0\n",
       "Pclass           0\n",
       "Name             0\n",
       "Sex              0\n",
       "Age             86\n",
       "SibSp            0\n",
       "Parch            0\n",
       "Ticket           0\n",
       "Fare             1\n",
       "Cabin          327\n",
       "Embarked         0\n",
       "dtype: int64"
      ]
     },
     "execution_count": 5,
     "metadata": {},
     "output_type": "execute_result"
    }
   ],
   "source": [
    "df.isnull().sum()"
   ]
  },
  {
   "cell_type": "code",
   "execution_count": 6,
   "id": "907e50ca",
   "metadata": {
    "execution": {
     "iopub.execute_input": "2023-08-22T05:57:45.988696Z",
     "iopub.status.busy": "2023-08-22T05:57:45.988265Z",
     "iopub.status.idle": "2023-08-22T05:57:45.995932Z",
     "shell.execute_reply": "2023-08-22T05:57:45.994724Z"
    },
    "papermill": {
     "duration": 0.022941,
     "end_time": "2023-08-22T05:57:45.998372",
     "exception": false,
     "start_time": "2023-08-22T05:57:45.975431",
     "status": "completed"
    },
    "tags": []
   },
   "outputs": [],
   "source": [
    "df[\"Age\"] = df[\"Age\"].fillna(df[\"Age\"].mean())\n",
    "df[\"Fare\"] = df[\"Fare\"].fillna(df[\"Fare\"].mean())"
   ]
  },
  {
   "cell_type": "code",
   "execution_count": 7,
   "id": "94ac3b69",
   "metadata": {
    "execution": {
     "iopub.execute_input": "2023-08-22T05:57:46.023518Z",
     "iopub.status.busy": "2023-08-22T05:57:46.022950Z",
     "iopub.status.idle": "2023-08-22T05:57:46.033563Z",
     "shell.execute_reply": "2023-08-22T05:57:46.032363Z"
    },
    "papermill": {
     "duration": 0.026093,
     "end_time": "2023-08-22T05:57:46.035821",
     "exception": false,
     "start_time": "2023-08-22T05:57:46.009728",
     "status": "completed"
    },
    "tags": []
   },
   "outputs": [
    {
     "data": {
      "text/plain": [
       "PassengerId      0\n",
       "Survived         0\n",
       "Pclass           0\n",
       "Name             0\n",
       "Sex              0\n",
       "Age              0\n",
       "SibSp            0\n",
       "Parch            0\n",
       "Ticket           0\n",
       "Fare             0\n",
       "Cabin          327\n",
       "Embarked         0\n",
       "dtype: int64"
      ]
     },
     "execution_count": 7,
     "metadata": {},
     "output_type": "execute_result"
    }
   ],
   "source": [
    "df.isnull().sum()"
   ]
  },
  {
   "cell_type": "code",
   "execution_count": 8,
   "id": "c2f490cc",
   "metadata": {
    "execution": {
     "iopub.execute_input": "2023-08-22T05:57:46.060715Z",
     "iopub.status.busy": "2023-08-22T05:57:46.060324Z",
     "iopub.status.idle": "2023-08-22T05:57:46.069782Z",
     "shell.execute_reply": "2023-08-22T05:57:46.068558Z"
    },
    "papermill": {
     "duration": 0.024901,
     "end_time": "2023-08-22T05:57:46.072396",
     "exception": false,
     "start_time": "2023-08-22T05:57:46.047495",
     "status": "completed"
    },
    "tags": []
   },
   "outputs": [
    {
     "name": "stdout",
     "output_type": "stream",
     "text": [
      "Embarked: Q\n",
      "Embarked: S\n",
      "Embarked: C\n"
     ]
    }
   ],
   "source": [
    "Embarkeds = df.Embarked.unique()\n",
    "for Embarked in Embarkeds:\n",
    "    print(\"Embarked:\", Embarked)"
   ]
  },
  {
   "cell_type": "code",
   "execution_count": 9,
   "id": "a7d52271",
   "metadata": {
    "execution": {
     "iopub.execute_input": "2023-08-22T05:57:46.098131Z",
     "iopub.status.busy": "2023-08-22T05:57:46.097744Z",
     "iopub.status.idle": "2023-08-22T05:57:46.112605Z",
     "shell.execute_reply": "2023-08-22T05:57:46.111525Z"
    },
    "papermill": {
     "duration": 0.030902,
     "end_time": "2023-08-22T05:57:46.114854",
     "exception": false,
     "start_time": "2023-08-22T05:57:46.083952",
     "status": "completed"
    },
    "tags": []
   },
   "outputs": [
    {
     "data": {
      "text/plain": [
       "0    0\n",
       "1    1\n",
       "2    0\n",
       "3    1\n",
       "4    1\n",
       "Name: Embarked, dtype: int64"
      ]
     },
     "execution_count": 9,
     "metadata": {},
     "output_type": "execute_result"
    }
   ],
   "source": [
    "df['Embarked'] = df[\"Embarked\"].map({'Q':0, 'S':1, 'C':2}).astype(int)\n",
    "df[\"Embarked\"].head(5)"
   ]
  },
  {
   "cell_type": "code",
   "execution_count": 10,
   "id": "b1ec2404",
   "metadata": {
    "execution": {
     "iopub.execute_input": "2023-08-22T05:57:46.140550Z",
     "iopub.status.busy": "2023-08-22T05:57:46.140104Z",
     "iopub.status.idle": "2023-08-22T05:57:46.150865Z",
     "shell.execute_reply": "2023-08-22T05:57:46.149643Z"
    },
    "papermill": {
     "duration": 0.026391,
     "end_time": "2023-08-22T05:57:46.153066",
     "exception": false,
     "start_time": "2023-08-22T05:57:46.126675",
     "status": "completed"
    },
    "tags": []
   },
   "outputs": [
    {
     "data": {
      "text/plain": [
       "0    0\n",
       "1    1\n",
       "2    0\n",
       "3    0\n",
       "4    1\n",
       "Name: Sex, dtype: int64"
      ]
     },
     "execution_count": 10,
     "metadata": {},
     "output_type": "execute_result"
    }
   ],
   "source": [
    "df[\"Sex\"] = df[\"Sex\"].map({'female':1, 'male':0}).astype(int)\n",
    "df[\"Sex\"].head(5)"
   ]
  },
  {
   "cell_type": "code",
   "execution_count": 11,
   "id": "fb7a4818",
   "metadata": {
    "execution": {
     "iopub.execute_input": "2023-08-22T05:57:46.179160Z",
     "iopub.status.busy": "2023-08-22T05:57:46.178267Z",
     "iopub.status.idle": "2023-08-22T05:57:46.186134Z",
     "shell.execute_reply": "2023-08-22T05:57:46.185353Z"
    },
    "papermill": {
     "duration": 0.022976,
     "end_time": "2023-08-22T05:57:46.188060",
     "exception": false,
     "start_time": "2023-08-22T05:57:46.165084",
     "status": "completed"
    },
    "tags": []
   },
   "outputs": [
    {
     "data": {
      "text/plain": [
       "PassengerId      int64\n",
       "Survived         int64\n",
       "Pclass           int64\n",
       "Name            object\n",
       "Sex              int64\n",
       "Age            float64\n",
       "SibSp            int64\n",
       "Parch            int64\n",
       "Ticket          object\n",
       "Fare           float64\n",
       "Cabin           object\n",
       "Embarked         int64\n",
       "dtype: object"
      ]
     },
     "execution_count": 11,
     "metadata": {},
     "output_type": "execute_result"
    }
   ],
   "source": [
    "df.dtypes"
   ]
  },
  {
   "cell_type": "code",
   "execution_count": 12,
   "id": "7554f5b6",
   "metadata": {
    "execution": {
     "iopub.execute_input": "2023-08-22T05:57:46.214808Z",
     "iopub.status.busy": "2023-08-22T05:57:46.214371Z",
     "iopub.status.idle": "2023-08-22T05:57:46.221040Z",
     "shell.execute_reply": "2023-08-22T05:57:46.219948Z"
    },
    "papermill": {
     "duration": 0.022983,
     "end_time": "2023-08-22T05:57:46.223316",
     "exception": false,
     "start_time": "2023-08-22T05:57:46.200333",
     "status": "completed"
    },
    "tags": []
   },
   "outputs": [],
   "source": [
    "df[\"Age\"] = df.Age.astype(int)\n",
    "df[\"Fare\"] = df.Fare.astype(int)"
   ]
  },
  {
   "cell_type": "code",
   "execution_count": 13,
   "id": "15bc5c54",
   "metadata": {
    "execution": {
     "iopub.execute_input": "2023-08-22T05:57:46.249625Z",
     "iopub.status.busy": "2023-08-22T05:57:46.249127Z",
     "iopub.status.idle": "2023-08-22T05:57:46.264480Z",
     "shell.execute_reply": "2023-08-22T05:57:46.263334Z"
    },
    "papermill": {
     "duration": 0.031481,
     "end_time": "2023-08-22T05:57:46.266890",
     "exception": false,
     "start_time": "2023-08-22T05:57:46.235409",
     "status": "completed"
    },
    "tags": []
   },
   "outputs": [
    {
     "data": {
      "text/html": [
       "<div>\n",
       "<style scoped>\n",
       "    .dataframe tbody tr th:only-of-type {\n",
       "        vertical-align: middle;\n",
       "    }\n",
       "\n",
       "    .dataframe tbody tr th {\n",
       "        vertical-align: top;\n",
       "    }\n",
       "\n",
       "    .dataframe thead th {\n",
       "        text-align: right;\n",
       "    }\n",
       "</style>\n",
       "<table border=\"1\" class=\"dataframe\">\n",
       "  <thead>\n",
       "    <tr style=\"text-align: right;\">\n",
       "      <th></th>\n",
       "      <th>PassengerId</th>\n",
       "      <th>Survived</th>\n",
       "      <th>Pclass</th>\n",
       "      <th>Name</th>\n",
       "      <th>Sex</th>\n",
       "      <th>Age</th>\n",
       "      <th>SibSp</th>\n",
       "      <th>Parch</th>\n",
       "      <th>Ticket</th>\n",
       "      <th>Fare</th>\n",
       "      <th>Cabin</th>\n",
       "      <th>Embarked</th>\n",
       "    </tr>\n",
       "  </thead>\n",
       "  <tbody>\n",
       "    <tr>\n",
       "      <th>0</th>\n",
       "      <td>892</td>\n",
       "      <td>0</td>\n",
       "      <td>3</td>\n",
       "      <td>Kelly, Mr. James</td>\n",
       "      <td>0</td>\n",
       "      <td>34</td>\n",
       "      <td>0</td>\n",
       "      <td>0</td>\n",
       "      <td>330911</td>\n",
       "      <td>7</td>\n",
       "      <td>NaN</td>\n",
       "      <td>0</td>\n",
       "    </tr>\n",
       "    <tr>\n",
       "      <th>1</th>\n",
       "      <td>893</td>\n",
       "      <td>1</td>\n",
       "      <td>3</td>\n",
       "      <td>Wilkes, Mrs. James (Ellen Needs)</td>\n",
       "      <td>1</td>\n",
       "      <td>47</td>\n",
       "      <td>1</td>\n",
       "      <td>0</td>\n",
       "      <td>363272</td>\n",
       "      <td>7</td>\n",
       "      <td>NaN</td>\n",
       "      <td>1</td>\n",
       "    </tr>\n",
       "    <tr>\n",
       "      <th>2</th>\n",
       "      <td>894</td>\n",
       "      <td>0</td>\n",
       "      <td>2</td>\n",
       "      <td>Myles, Mr. Thomas Francis</td>\n",
       "      <td>0</td>\n",
       "      <td>62</td>\n",
       "      <td>0</td>\n",
       "      <td>0</td>\n",
       "      <td>240276</td>\n",
       "      <td>9</td>\n",
       "      <td>NaN</td>\n",
       "      <td>0</td>\n",
       "    </tr>\n",
       "    <tr>\n",
       "      <th>3</th>\n",
       "      <td>895</td>\n",
       "      <td>0</td>\n",
       "      <td>3</td>\n",
       "      <td>Wirz, Mr. Albert</td>\n",
       "      <td>0</td>\n",
       "      <td>27</td>\n",
       "      <td>0</td>\n",
       "      <td>0</td>\n",
       "      <td>315154</td>\n",
       "      <td>8</td>\n",
       "      <td>NaN</td>\n",
       "      <td>1</td>\n",
       "    </tr>\n",
       "    <tr>\n",
       "      <th>4</th>\n",
       "      <td>896</td>\n",
       "      <td>1</td>\n",
       "      <td>3</td>\n",
       "      <td>Hirvonen, Mrs. Alexander (Helga E Lindqvist)</td>\n",
       "      <td>1</td>\n",
       "      <td>22</td>\n",
       "      <td>1</td>\n",
       "      <td>1</td>\n",
       "      <td>3101298</td>\n",
       "      <td>12</td>\n",
       "      <td>NaN</td>\n",
       "      <td>1</td>\n",
       "    </tr>\n",
       "  </tbody>\n",
       "</table>\n",
       "</div>"
      ],
      "text/plain": [
       "   PassengerId  Survived  Pclass  \\\n",
       "0          892         0       3   \n",
       "1          893         1       3   \n",
       "2          894         0       2   \n",
       "3          895         0       3   \n",
       "4          896         1       3   \n",
       "\n",
       "                                           Name  Sex  Age  SibSp  Parch  \\\n",
       "0                              Kelly, Mr. James    0   34      0      0   \n",
       "1              Wilkes, Mrs. James (Ellen Needs)    1   47      1      0   \n",
       "2                     Myles, Mr. Thomas Francis    0   62      0      0   \n",
       "3                              Wirz, Mr. Albert    0   27      0      0   \n",
       "4  Hirvonen, Mrs. Alexander (Helga E Lindqvist)    1   22      1      1   \n",
       "\n",
       "    Ticket  Fare Cabin  Embarked  \n",
       "0   330911     7   NaN         0  \n",
       "1   363272     7   NaN         1  \n",
       "2   240276     9   NaN         0  \n",
       "3   315154     8   NaN         1  \n",
       "4  3101298    12   NaN         1  "
      ]
     },
     "execution_count": 13,
     "metadata": {},
     "output_type": "execute_result"
    }
   ],
   "source": [
    "df.head(5)"
   ]
  },
  {
   "cell_type": "markdown",
   "id": "796d2a98",
   "metadata": {
    "papermill": {
     "duration": 0.012081,
     "end_time": "2023-08-22T05:57:46.291381",
     "exception": false,
     "start_time": "2023-08-22T05:57:46.279300",
     "status": "completed"
    },
    "tags": []
   },
   "source": [
    "**REMOVING USELESS DATA**"
   ]
  },
  {
   "cell_type": "code",
   "execution_count": 14,
   "id": "0e3a7712",
   "metadata": {
    "execution": {
     "iopub.execute_input": "2023-08-22T05:57:46.318592Z",
     "iopub.status.busy": "2023-08-22T05:57:46.318143Z",
     "iopub.status.idle": "2023-08-22T05:57:46.334445Z",
     "shell.execute_reply": "2023-08-22T05:57:46.333348Z"
    },
    "papermill": {
     "duration": 0.033176,
     "end_time": "2023-08-22T05:57:46.336879",
     "exception": false,
     "start_time": "2023-08-22T05:57:46.303703",
     "status": "completed"
    },
    "tags": []
   },
   "outputs": [
    {
     "data": {
      "text/html": [
       "<div>\n",
       "<style scoped>\n",
       "    .dataframe tbody tr th:only-of-type {\n",
       "        vertical-align: middle;\n",
       "    }\n",
       "\n",
       "    .dataframe tbody tr th {\n",
       "        vertical-align: top;\n",
       "    }\n",
       "\n",
       "    .dataframe thead th {\n",
       "        text-align: right;\n",
       "    }\n",
       "</style>\n",
       "<table border=\"1\" class=\"dataframe\">\n",
       "  <thead>\n",
       "    <tr style=\"text-align: right;\">\n",
       "      <th></th>\n",
       "      <th>Survived</th>\n",
       "      <th>Pclass</th>\n",
       "      <th>Sex</th>\n",
       "      <th>Age</th>\n",
       "      <th>SibSp</th>\n",
       "      <th>Parch</th>\n",
       "      <th>Fare</th>\n",
       "      <th>Embarked</th>\n",
       "    </tr>\n",
       "  </thead>\n",
       "  <tbody>\n",
       "    <tr>\n",
       "      <th>0</th>\n",
       "      <td>0</td>\n",
       "      <td>3</td>\n",
       "      <td>0</td>\n",
       "      <td>34</td>\n",
       "      <td>0</td>\n",
       "      <td>0</td>\n",
       "      <td>7</td>\n",
       "      <td>0</td>\n",
       "    </tr>\n",
       "    <tr>\n",
       "      <th>1</th>\n",
       "      <td>1</td>\n",
       "      <td>3</td>\n",
       "      <td>1</td>\n",
       "      <td>47</td>\n",
       "      <td>1</td>\n",
       "      <td>0</td>\n",
       "      <td>7</td>\n",
       "      <td>1</td>\n",
       "    </tr>\n",
       "    <tr>\n",
       "      <th>2</th>\n",
       "      <td>0</td>\n",
       "      <td>2</td>\n",
       "      <td>0</td>\n",
       "      <td>62</td>\n",
       "      <td>0</td>\n",
       "      <td>0</td>\n",
       "      <td>9</td>\n",
       "      <td>0</td>\n",
       "    </tr>\n",
       "    <tr>\n",
       "      <th>3</th>\n",
       "      <td>0</td>\n",
       "      <td>3</td>\n",
       "      <td>0</td>\n",
       "      <td>27</td>\n",
       "      <td>0</td>\n",
       "      <td>0</td>\n",
       "      <td>8</td>\n",
       "      <td>1</td>\n",
       "    </tr>\n",
       "    <tr>\n",
       "      <th>4</th>\n",
       "      <td>1</td>\n",
       "      <td>3</td>\n",
       "      <td>1</td>\n",
       "      <td>22</td>\n",
       "      <td>1</td>\n",
       "      <td>1</td>\n",
       "      <td>12</td>\n",
       "      <td>1</td>\n",
       "    </tr>\n",
       "  </tbody>\n",
       "</table>\n",
       "</div>"
      ],
      "text/plain": [
       "   Survived  Pclass  Sex  Age  SibSp  Parch  Fare  Embarked\n",
       "0         0       3    0   34      0      0     7         0\n",
       "1         1       3    1   47      1      0     7         1\n",
       "2         0       2    0   62      0      0     9         0\n",
       "3         0       3    0   27      0      0     8         1\n",
       "4         1       3    1   22      1      1    12         1"
      ]
     },
     "execution_count": 14,
     "metadata": {},
     "output_type": "execute_result"
    }
   ],
   "source": [
    "uselessData = df.drop([\"PassengerId\", \"Name\", \"Ticket\", \"Cabin\"], axis=1, inplace = True)\n",
    "df.head(5)"
   ]
  },
  {
   "cell_type": "code",
   "execution_count": 15,
   "id": "5f230835",
   "metadata": {
    "execution": {
     "iopub.execute_input": "2023-08-22T05:57:46.363902Z",
     "iopub.status.busy": "2023-08-22T05:57:46.363508Z",
     "iopub.status.idle": "2023-08-22T05:57:46.381237Z",
     "shell.execute_reply": "2023-08-22T05:57:46.380042Z"
    },
    "papermill": {
     "duration": 0.034234,
     "end_time": "2023-08-22T05:57:46.383654",
     "exception": false,
     "start_time": "2023-08-22T05:57:46.349420",
     "status": "completed"
    },
    "tags": []
   },
   "outputs": [
    {
     "data": {
      "text/html": [
       "<div>\n",
       "<style scoped>\n",
       "    .dataframe tbody tr th:only-of-type {\n",
       "        vertical-align: middle;\n",
       "    }\n",
       "\n",
       "    .dataframe tbody tr th {\n",
       "        vertical-align: top;\n",
       "    }\n",
       "\n",
       "    .dataframe thead th {\n",
       "        text-align: right;\n",
       "    }\n",
       "</style>\n",
       "<table border=\"1\" class=\"dataframe\">\n",
       "  <thead>\n",
       "    <tr style=\"text-align: right;\">\n",
       "      <th></th>\n",
       "      <th>Survived</th>\n",
       "      <th>Pclass</th>\n",
       "      <th>Sex</th>\n",
       "      <th>Age</th>\n",
       "      <th>SibSp</th>\n",
       "      <th>Parch</th>\n",
       "      <th>Fare</th>\n",
       "      <th>Embarked</th>\n",
       "    </tr>\n",
       "  </thead>\n",
       "  <tbody>\n",
       "    <tr>\n",
       "      <th>1</th>\n",
       "      <td>1</td>\n",
       "      <td>3</td>\n",
       "      <td>1</td>\n",
       "      <td>47</td>\n",
       "      <td>1</td>\n",
       "      <td>0</td>\n",
       "      <td>7</td>\n",
       "      <td>1</td>\n",
       "    </tr>\n",
       "    <tr>\n",
       "      <th>4</th>\n",
       "      <td>1</td>\n",
       "      <td>3</td>\n",
       "      <td>1</td>\n",
       "      <td>22</td>\n",
       "      <td>1</td>\n",
       "      <td>1</td>\n",
       "      <td>12</td>\n",
       "      <td>1</td>\n",
       "    </tr>\n",
       "    <tr>\n",
       "      <th>6</th>\n",
       "      <td>1</td>\n",
       "      <td>3</td>\n",
       "      <td>1</td>\n",
       "      <td>30</td>\n",
       "      <td>0</td>\n",
       "      <td>0</td>\n",
       "      <td>7</td>\n",
       "      <td>0</td>\n",
       "    </tr>\n",
       "    <tr>\n",
       "      <th>8</th>\n",
       "      <td>1</td>\n",
       "      <td>3</td>\n",
       "      <td>1</td>\n",
       "      <td>18</td>\n",
       "      <td>0</td>\n",
       "      <td>0</td>\n",
       "      <td>7</td>\n",
       "      <td>2</td>\n",
       "    </tr>\n",
       "    <tr>\n",
       "      <th>12</th>\n",
       "      <td>1</td>\n",
       "      <td>1</td>\n",
       "      <td>1</td>\n",
       "      <td>23</td>\n",
       "      <td>1</td>\n",
       "      <td>0</td>\n",
       "      <td>82</td>\n",
       "      <td>1</td>\n",
       "    </tr>\n",
       "    <tr>\n",
       "      <th>...</th>\n",
       "      <td>...</td>\n",
       "      <td>...</td>\n",
       "      <td>...</td>\n",
       "      <td>...</td>\n",
       "      <td>...</td>\n",
       "      <td>...</td>\n",
       "      <td>...</td>\n",
       "      <td>...</td>\n",
       "    </tr>\n",
       "    <tr>\n",
       "      <th>409</th>\n",
       "      <td>1</td>\n",
       "      <td>3</td>\n",
       "      <td>1</td>\n",
       "      <td>3</td>\n",
       "      <td>1</td>\n",
       "      <td>1</td>\n",
       "      <td>13</td>\n",
       "      <td>1</td>\n",
       "    </tr>\n",
       "    <tr>\n",
       "      <th>410</th>\n",
       "      <td>1</td>\n",
       "      <td>3</td>\n",
       "      <td>1</td>\n",
       "      <td>30</td>\n",
       "      <td>0</td>\n",
       "      <td>0</td>\n",
       "      <td>7</td>\n",
       "      <td>0</td>\n",
       "    </tr>\n",
       "    <tr>\n",
       "      <th>411</th>\n",
       "      <td>1</td>\n",
       "      <td>1</td>\n",
       "      <td>1</td>\n",
       "      <td>37</td>\n",
       "      <td>1</td>\n",
       "      <td>0</td>\n",
       "      <td>90</td>\n",
       "      <td>0</td>\n",
       "    </tr>\n",
       "    <tr>\n",
       "      <th>412</th>\n",
       "      <td>1</td>\n",
       "      <td>3</td>\n",
       "      <td>1</td>\n",
       "      <td>28</td>\n",
       "      <td>0</td>\n",
       "      <td>0</td>\n",
       "      <td>7</td>\n",
       "      <td>1</td>\n",
       "    </tr>\n",
       "    <tr>\n",
       "      <th>414</th>\n",
       "      <td>1</td>\n",
       "      <td>1</td>\n",
       "      <td>1</td>\n",
       "      <td>39</td>\n",
       "      <td>0</td>\n",
       "      <td>0</td>\n",
       "      <td>108</td>\n",
       "      <td>2</td>\n",
       "    </tr>\n",
       "  </tbody>\n",
       "</table>\n",
       "<p>152 rows × 8 columns</p>\n",
       "</div>"
      ],
      "text/plain": [
       "     Survived  Pclass  Sex  Age  SibSp  Parch  Fare  Embarked\n",
       "1           1       3    1   47      1      0     7         1\n",
       "4           1       3    1   22      1      1    12         1\n",
       "6           1       3    1   30      0      0     7         0\n",
       "8           1       3    1   18      0      0     7         2\n",
       "12          1       1    1   23      1      0    82         1\n",
       "..        ...     ...  ...  ...    ...    ...   ...       ...\n",
       "409         1       3    1    3      1      1    13         1\n",
       "410         1       3    1   30      0      0     7         0\n",
       "411         1       1    1   37      1      0    90         0\n",
       "412         1       3    1   28      0      0     7         1\n",
       "414         1       1    1   39      0      0   108         2\n",
       "\n",
       "[152 rows x 8 columns]"
      ]
     },
     "execution_count": 15,
     "metadata": {},
     "output_type": "execute_result"
    }
   ],
   "source": [
    "#_, ax = mpl.subplots(figsize = (10, 7))\n",
    "#sb.histplot(data = df, x = \"Sex\", hue = \"Survived\", palette = [\"red\", \"green\"])\n",
    "#mpl.plot()\n",
    "df[(df[\"Sex\"] == 1) & (df[\"Survived\"]==1)]"
   ]
  },
  {
   "cell_type": "markdown",
   "id": "63f1f061",
   "metadata": {
    "papermill": {
     "duration": 0.012717,
     "end_time": "2023-08-22T05:57:46.409301",
     "exception": false,
     "start_time": "2023-08-22T05:57:46.396584",
     "status": "completed"
    },
    "tags": []
   },
   "source": [
    "# **DRISHTI: THE DATA VISUALIZATION**"
   ]
  },
  {
   "cell_type": "code",
   "execution_count": 16,
   "id": "51d110e8",
   "metadata": {
    "execution": {
     "iopub.execute_input": "2023-08-22T05:57:46.437319Z",
     "iopub.status.busy": "2023-08-22T05:57:46.436916Z",
     "iopub.status.idle": "2023-08-22T05:57:47.970069Z",
     "shell.execute_reply": "2023-08-22T05:57:47.968762Z"
    },
    "papermill": {
     "duration": 1.550674,
     "end_time": "2023-08-22T05:57:47.972917",
     "exception": false,
     "start_time": "2023-08-22T05:57:46.422243",
     "status": "completed"
    },
    "tags": []
   },
   "outputs": [
    {
     "name": "stderr",
     "output_type": "stream",
     "text": [
      "/opt/conda/lib/python3.10/site-packages/scipy/__init__.py:146: UserWarning: A NumPy version >=1.16.5 and <1.23.0 is required for this version of SciPy (detected version 1.23.5\n",
      "  warnings.warn(f\"A NumPy version >={np_minversion} and <{np_maxversion}\"\n"
     ]
    }
   ],
   "source": [
    "import seaborn as sb\n",
    "import matplotlib.pyplot as mpl"
   ]
  },
  {
   "cell_type": "code",
   "execution_count": 17,
   "id": "684275a1",
   "metadata": {
    "execution": {
     "iopub.execute_input": "2023-08-22T05:57:48.001995Z",
     "iopub.status.busy": "2023-08-22T05:57:48.001115Z",
     "iopub.status.idle": "2023-08-22T05:57:48.007472Z",
     "shell.execute_reply": "2023-08-22T05:57:48.006177Z"
    },
    "papermill": {
     "duration": 0.024122,
     "end_time": "2023-08-22T05:57:48.010322",
     "exception": false,
     "start_time": "2023-08-22T05:57:47.986200",
     "status": "completed"
    },
    "tags": []
   },
   "outputs": [],
   "source": [
    "sb.set(style = \"dark\", font = \"Times New Roman\")"
   ]
  },
  {
   "cell_type": "code",
   "execution_count": 18,
   "id": "b8eb0605",
   "metadata": {
    "execution": {
     "iopub.execute_input": "2023-08-22T05:57:48.038842Z",
     "iopub.status.busy": "2023-08-22T05:57:48.038426Z",
     "iopub.status.idle": "2023-08-22T05:57:48.827219Z",
     "shell.execute_reply": "2023-08-22T05:57:48.825861Z"
    },
    "papermill": {
     "duration": 0.806404,
     "end_time": "2023-08-22T05:57:48.829955",
     "exception": false,
     "start_time": "2023-08-22T05:57:48.023551",
     "status": "completed"
    },
    "tags": []
   },
   "outputs": [
    {
     "data": {
      "text/plain": [
       "[]"
      ]
     },
     "execution_count": 18,
     "metadata": {},
     "output_type": "execute_result"
    },
    {
     "data": {
      "image/png": "[encoded data removed]",
      "text/plain": [
       "<Figure size 1000x700 with 1 Axes>"
      ]
     },
     "metadata": {},
     "output_type": "display_data"
    }
   ],
   "source": [
    "_, ax = mpl.subplots(figsize = (10, 7))\n",
    "sb.histplot(data = df, x = \"Age\", hue = \"Survived\", multiple = \"stack\", kde = True, palette=[\"red\", \"green\"], ax = ax)\n",
    "ax.set_title(\"Histogram for Age with Survival\")\n",
    "ax.set_xlabel(\"Age\")\n",
    "ax.set_ylabel(\"Number of passengers\")\n",
    "ax.legend(title = \"Legends\", labels = [\"Survived\", \"Not survived\"])\n",
    "mpl.plot()"
   ]
  },
  {
   "cell_type": "code",
   "execution_count": 19,
   "id": "fe78609f",
   "metadata": {
    "execution": {
     "iopub.execute_input": "2023-08-22T05:57:48.861222Z",
     "iopub.status.busy": "2023-08-22T05:57:48.860751Z",
     "iopub.status.idle": "2023-08-22T05:57:49.131353Z",
     "shell.execute_reply": "2023-08-22T05:57:49.130175Z"
    },
    "papermill": {
     "duration": 0.289219,
     "end_time": "2023-08-22T05:57:49.134091",
     "exception": false,
     "start_time": "2023-08-22T05:57:48.844872",
     "status": "completed"
    },
    "tags": []
   },
   "outputs": [
    {
     "data": {
      "image/png": "[encoded data removed]",
      "text/plain": [
       "<Figure size 800x800 with 1 Axes>"
      ]
     },
     "metadata": {},
     "output_type": "display_data"
    }
   ],
   "source": [
    "embarked_counts = df['Embarked'].value_counts()\n",
    "mpl.figure(figsize=(8, 8))\n",
    "mpl.pie(embarked_counts, labels=embarked_counts.index, autopct='%1.1f%%', colors=['#66b3ff', '#99ff99', '#ff9999'])\n",
    "mpl.title(\"Distribution of Passengers by Embarked\")\n",
    "mpl.legend([\"Q\", \"S\", \"C\"])\n",
    "mpl.show()"
   ]
  },
  {
   "cell_type": "code",
   "execution_count": 20,
   "id": "4cb70b0b",
   "metadata": {
    "execution": {
     "iopub.execute_input": "2023-08-22T05:57:49.166577Z",
     "iopub.status.busy": "2023-08-22T05:57:49.165889Z",
     "iopub.status.idle": "2023-08-22T05:57:49.602173Z",
     "shell.execute_reply": "2023-08-22T05:57:49.601026Z"
    },
    "papermill": {
     "duration": 0.456669,
     "end_time": "2023-08-22T05:57:49.605762",
     "exception": false,
     "start_time": "2023-08-22T05:57:49.149093",
     "status": "completed"
    },
    "tags": []
   },
   "outputs": [
    {
     "data": {
      "text/plain": [
       "[]"
      ]
     },
     "execution_count": 20,
     "metadata": {},
     "output_type": "execute_result"
    },
    {
     "data": {
      "image/png": "[encoded data removed]",
      "text/plain": [
       "<Figure size 1000x700 with 1 Axes>"
      ]
     },
     "metadata": {},
     "output_type": "display_data"
    }
   ],
   "source": [
    "_, ax = mpl.subplots(figsize = (10, 7))\n",
    "sb.countplot(data = df, x = \"Embarked\", hue = \"Survived\", palette=[\"red\", \"green\"], ax = ax)\n",
    "ax.set_title(\"Countplot for Embarked with Survival\")\n",
    "ax.set_xlabel(\"Embarked\")\n",
    "ax.set_xticklabels([\"Q\", \"S\", \"C\"])\n",
    "ax.set_ylabel(\"Number of passengers\")\n",
    "ax.legend(title = \"Legends\", labels = [\"Not Survived\", \"Survived\"])\n",
    "mpl.plot()"
   ]
  },
  {
   "cell_type": "code",
   "execution_count": 21,
   "id": "099b8543",
   "metadata": {
    "execution": {
     "iopub.execute_input": "2023-08-22T05:57:49.639405Z",
     "iopub.status.busy": "2023-08-22T05:57:49.638980Z",
     "iopub.status.idle": "2023-08-22T05:57:50.623925Z",
     "shell.execute_reply": "2023-08-22T05:57:50.622781Z"
    },
    "papermill": {
     "duration": 1.005034,
     "end_time": "2023-08-22T05:57:50.626828",
     "exception": false,
     "start_time": "2023-08-22T05:57:49.621794",
     "status": "completed"
    },
    "tags": []
   },
   "outputs": [
    {
     "data": {
      "text/plain": [
       "[]"
      ]
     },
     "execution_count": 21,
     "metadata": {},
     "output_type": "execute_result"
    },
    {
     "data": {
      "image/png": "[encoded data removed]",
      "text/plain": [
       "<Figure size 1000x700 with 1 Axes>"
      ]
     },
     "metadata": {},
     "output_type": "display_data"
    }
   ],
   "source": [
    "_, ax = mpl.subplots(figsize = (10, 7))\n",
    "sb.histplot(data = df, x = \"Fare\", hue = \"Survived\", multiple = \"stack\", kde = True, palette = [\"red\", \"green\"], ax = ax)\n",
    "ax.set_title(\"Histogram for Fare with Survival\")\n",
    "ax.set_xlabel(\"Fare\")\n",
    "ax.set_ylabel(\"Number of passengers\")\n",
    "ax.legend(title = \"Legends\", labels = [\"Survived\", \"Not survived\"])\n",
    "mpl.plot()"
   ]
  },
  {
   "cell_type": "code",
   "execution_count": 22,
   "id": "38ccab23",
   "metadata": {
    "execution": {
     "iopub.execute_input": "2023-08-22T05:57:50.662566Z",
     "iopub.status.busy": "2023-08-22T05:57:50.662099Z",
     "iopub.status.idle": "2023-08-22T05:57:50.988746Z",
     "shell.execute_reply": "2023-08-22T05:57:50.987646Z"
    },
    "papermill": {
     "duration": 0.347997,
     "end_time": "2023-08-22T05:57:50.991344",
     "exception": false,
     "start_time": "2023-08-22T05:57:50.643347",
     "status": "completed"
    },
    "tags": []
   },
   "outputs": [
    {
     "data": {
      "image/png": "[encoded data removed]",
      "text/plain": [
       "<Figure size 640x480 with 1 Axes>"
      ]
     },
     "metadata": {},
     "output_type": "display_data"
    }
   ],
   "source": [
    "ax = sb.countplot(data = df, x=\"Survived\", hue = \"Survived\", palette = [\"red\", \"green\"])\n",
    "ax.set_xlabel(\"Survived\")\n",
    "ax.set_ylabel(\"Count\")\n",
    "ax.set_title(\"Survival Count\")\n",
    "ax.legend(title = \"Legends\", labels = [\"Not Survived\", \"Survived\"])\n",
    "mpl.xticks([0,1],[\"Male\", \"Female\"])\n",
    "mpl.show()"
   ]
  },
  {
   "cell_type": "markdown",
   "id": "b6cc74ed",
   "metadata": {
    "papermill": {
     "duration": 0.017128,
     "end_time": "2023-08-22T05:57:51.026446",
     "exception": false,
     "start_time": "2023-08-22T05:57:51.009318",
     "status": "completed"
    },
    "tags": []
   },
   "source": [
    "# **KINETIC: SPLITTING THE DATA**"
   ]
  },
  {
   "cell_type": "code",
   "execution_count": 23,
   "id": "f8ca7192",
   "metadata": {
    "execution": {
     "iopub.execute_input": "2023-08-22T05:57:51.063659Z",
     "iopub.status.busy": "2023-08-22T05:57:51.062536Z",
     "iopub.status.idle": "2023-08-22T05:57:51.355359Z",
     "shell.execute_reply": "2023-08-22T05:57:51.353880Z"
    },
    "papermill": {
     "duration": 0.31459,
     "end_time": "2023-08-22T05:57:51.358228",
     "exception": false,
     "start_time": "2023-08-22T05:57:51.043638",
     "status": "completed"
    },
    "tags": []
   },
   "outputs": [],
   "source": [
    "from sklearn.model_selection import train_test_split"
   ]
  },
  {
   "cell_type": "code",
   "execution_count": 24,
   "id": "8e9c22be",
   "metadata": {
    "execution": {
     "iopub.execute_input": "2023-08-22T05:57:51.396241Z",
     "iopub.status.busy": "2023-08-22T05:57:51.395816Z",
     "iopub.status.idle": "2023-08-22T05:57:51.405633Z",
     "shell.execute_reply": "2023-08-22T05:57:51.404713Z"
    },
    "papermill": {
     "duration": 0.03106,
     "end_time": "2023-08-22T05:57:51.407939",
     "exception": false,
     "start_time": "2023-08-22T05:57:51.376879",
     "status": "completed"
    },
    "tags": []
   },
   "outputs": [],
   "source": [
    "Input = df.drop(['Survived'], axis=1)\n",
    "Output = df.iloc[:,1]\n",
    "x_train, x_test, y_train, y_test = train_test_split(Input, Output, test_size = 0.2, random_state = 1)"
   ]
  },
  {
   "cell_type": "markdown",
   "id": "687457b9",
   "metadata": {
    "papermill": {
     "duration": 0.017191,
     "end_time": "2023-08-22T05:57:51.442529",
     "exception": false,
     "start_time": "2023-08-22T05:57:51.425338",
     "status": "completed"
    },
    "tags": []
   },
   "source": [
    "# **FINAL BATTLE: THE MODEL**"
   ]
  },
  {
   "cell_type": "code",
   "execution_count": 25,
   "id": "c5987e50",
   "metadata": {
    "execution": {
     "iopub.execute_input": "2023-08-22T05:57:51.481191Z",
     "iopub.status.busy": "2023-08-22T05:57:51.479822Z",
     "iopub.status.idle": "2023-08-22T05:57:51.597566Z",
     "shell.execute_reply": "2023-08-22T05:57:51.595907Z"
    },
    "papermill": {
     "duration": 0.139847,
     "end_time": "2023-08-22T05:57:51.600728",
     "exception": false,
     "start_time": "2023-08-22T05:57:51.460881",
     "status": "completed"
    },
    "tags": []
   },
   "outputs": [],
   "source": [
    "from sklearn.linear_model import LogisticRegression\n",
    "from sklearn.metrics import accuracy_score as score"
   ]
  },
  {
   "cell_type": "code",
   "execution_count": 26,
   "id": "1c5c7ec7",
   "metadata": {
    "execution": {
     "iopub.execute_input": "2023-08-22T05:57:51.636685Z",
     "iopub.status.busy": "2023-08-22T05:57:51.636257Z",
     "iopub.status.idle": "2023-08-22T05:57:51.692887Z",
     "shell.execute_reply": "2023-08-22T05:57:51.691612Z"
    },
    "papermill": {
     "duration": 0.077537,
     "end_time": "2023-08-22T05:57:51.695351",
     "exception": false,
     "start_time": "2023-08-22T05:57:51.617814",
     "status": "completed"
    },
    "tags": []
   },
   "outputs": [
    {
     "name": "stderr",
     "output_type": "stream",
     "text": [
      "/opt/conda/lib/python3.10/site-packages/sklearn/linear_model/_logistic.py:458: ConvergenceWarning: lbfgs failed to converge (status=1):\n",
      "STOP: TOTAL NO. of ITERATIONS REACHED LIMIT.\n",
      "\n",
      "Increase the number of iterations (max_iter) or scale the data as shown in:\n",
      "    https://scikit-learn.org/stable/modules/preprocessing.html\n",
      "Please also refer to the documentation for alternative solver options:\n",
      "    https://scikit-learn.org/stable/modules/linear_model.html#logistic-regression\n",
      "  n_iter_i = _check_optimize_result(\n"
     ]
    },
    {
     "data": {
      "text/html": [
       "<style>#sk-container-id-1 {color: black;background-color: white;}#sk-container-id-1 pre{padding: 0;}#sk-container-id-1 div.sk-toggleable {background-color: white;}#sk-container-id-1 label.sk-toggleable__label {cursor: pointer;display: block;width: 100%;margin-bottom: 0;padding: 0.3em;box-sizing: border-box;text-align: center;}#sk-container-id-1 label.sk-toggleable__label-arrow:before {content: \"▸\";float: left;margin-right: 0.25em;color: #696969;}#sk-container-id-1 label.sk-toggleable__label-arrow:hover:before {color: black;}#sk-container-id-1 div.sk-estimator:hover label.sk-toggleable__label-arrow:before {color: black;}#sk-container-id-1 div.sk-toggleable__content {max-height: 0;max-width: 0;overflow: hidden;text-align: left;background-color: #f0f8ff;}#sk-container-id-1 div.sk-toggleable__content pre {margin: 0.2em;color: black;border-radius: 0.25em;background-color: #f0f8ff;}#sk-container-id-1 input.sk-toggleable__control:checked~div.sk-toggleable__content {max-height: 200px;max-width: 100%;overflow: auto;}#sk-container-id-1 input.sk-toggleable__control:checked~label.sk-toggleable__label-arrow:before {content: \"▾\";}#sk-container-id-1 div.sk-estimator input.sk-toggleable__control:checked~label.sk-toggleable__label {background-color: #d4ebff;}#sk-container-id-1 div.sk-label input.sk-toggleable__control:checked~label.sk-toggleable__label {background-color: #d4ebff;}#sk-container-id-1 input.sk-hidden--visually {border: 0;clip: rect(1px 1px 1px 1px);clip: rect(1px, 1px, 1px, 1px);height: 1px;margin: -1px;overflow: hidden;padding: 0;position: absolute;width: 1px;}#sk-container-id-1 div.sk-estimator {font-family: monospace;background-color: #f0f8ff;border: 1px dotted black;border-radius: 0.25em;box-sizing: border-box;margin-bottom: 0.5em;}#sk-container-id-1 div.sk-estimator:hover {background-color: #d4ebff;}#sk-container-id-1 div.sk-parallel-item::after {content: \"\";width: 100%;border-bottom: 1px solid gray;flex-grow: 1;}#sk-container-id-1 div.sk-label:hover label.sk-toggleable__label {background-color: #d4ebff;}#sk-container-id-1 div.sk-serial::before {content: \"\";position: absolute;border-left: 1px solid gray;box-sizing: border-box;top: 0;bottom: 0;left: 50%;z-index: 0;}#sk-container-id-1 div.sk-serial {display: flex;flex-direction: column;align-items: center;background-color: white;padding-right: 0.2em;padding-left: 0.2em;position: relative;}#sk-container-id-1 div.sk-item {position: relative;z-index: 1;}#sk-container-id-1 div.sk-parallel {display: flex;align-items: stretch;justify-content: center;background-color: white;position: relative;}#sk-container-id-1 div.sk-item::before, #sk-container-id-1 div.sk-parallel-item::before {content: \"\";position: absolute;border-left: 1px solid gray;box-sizing: border-box;top: 0;bottom: 0;left: 50%;z-index: -1;}#sk-container-id-1 div.sk-parallel-item {display: flex;flex-direction: column;z-index: 1;position: relative;background-color: white;}#sk-container-id-1 div.sk-parallel-item:first-child::after {align-self: flex-end;width: 50%;}#sk-container-id-1 div.sk-parallel-item:last-child::after {align-self: flex-start;width: 50%;}#sk-container-id-1 div.sk-parallel-item:only-child::after {width: 0;}#sk-container-id-1 div.sk-dashed-wrapped {border: 1px dashed gray;margin: 0 0.4em 0.5em 0.4em;box-sizing: border-box;padding-bottom: 0.4em;background-color: white;}#sk-container-id-1 div.sk-label label {font-family: monospace;font-weight: bold;display: inline-block;line-height: 1.2em;}#sk-container-id-1 div.sk-label-container {text-align: center;}#sk-container-id-1 div.sk-container {/* jupyter's `normalize.less` sets `[hidden] { display: none; }` but bootstrap.min.css set `[hidden] { display: none !important; }` so we also need the `!important` here to be able to override the default hidden behavior on the sphinx rendered scikit-learn.org. See: https://github.com/scikit-learn/scikit-learn/issues/21755 */display: inline-block !important;position: relative;}#sk-container-id-1 div.sk-text-repr-fallback {display: none;}</style><div id=\"sk-container-id-1\" class=\"sk-top-container\"><div class=\"sk-text-repr-fallback\"><pre>LogisticRegression()</pre><b>In a Jupyter environment, please rerun this cell to show the HTML representation or trust the notebook. <br />On GitHub, the HTML representation is unable to render, please try loading this page with nbviewer.org.</b></div><div class=\"sk-container\" hidden><div class=\"sk-item\"><div class=\"sk-estimator sk-toggleable\"><input class=\"sk-toggleable__control sk-hidden--visually\" id=\"sk-estimator-id-1\" type=\"checkbox\" checked><label for=\"sk-estimator-id-1\" class=\"sk-toggleable__label sk-toggleable__label-arrow\">LogisticRegression</label><div class=\"sk-toggleable__content\"><pre>LogisticRegression()</pre></div></div></div></div></div>"
      ],
      "text/plain": [
       "LogisticRegression()"
      ]
     },
     "execution_count": 26,
     "metadata": {},
     "output_type": "execute_result"
    }
   ],
   "source": [
    "LR = LogisticRegression()\n",
    "LR.fit(x_train, y_train)"
   ]
  },
  {
   "cell_type": "code",
   "execution_count": 27,
   "id": "17086a61",
   "metadata": {
    "execution": {
     "iopub.execute_input": "2023-08-22T05:57:51.733200Z",
     "iopub.status.busy": "2023-08-22T05:57:51.732187Z",
     "iopub.status.idle": "2023-08-22T05:57:51.743904Z",
     "shell.execute_reply": "2023-08-22T05:57:51.741715Z"
    },
    "papermill": {
     "duration": 0.033534,
     "end_time": "2023-08-22T05:57:51.746679",
     "exception": false,
     "start_time": "2023-08-22T05:57:51.713145",
     "status": "completed"
    },
    "tags": []
   },
   "outputs": [
    {
     "name": "stdout",
     "output_type": "stream",
     "text": [
      "Accuracy = 100.00%\n"
     ]
    }
   ],
   "source": [
    "PredictedValue = LR.predict(x_test)\n",
    "print(\"Accuracy = {:0.2f}%\".format(score(PredictedValue, y_test)*100))"
   ]
  }
 ],
 "metadata": {
  "kernelspec": {
   "display_name": "Python 3",
   "language": "python",
   "name": "python3"
  },
  "language_info": {
   "codemirror_mode": {
    "name": "ipython",
    "version": 3
   },
   "file_extension": ".py",
   "mimetype": "text/x-python",
   "name": "python",
   "nbconvert_exporter": "python",
   "pygments_lexer": "ipython3",
   "version": "3.10.12"
  },
  "papermill": {
   "default_parameters": {},
   "duration": 19.838884,
   "end_time": "2023-08-22T05:57:52.888180",
   "environment_variables": {},
   "exception": null,
   "input_path": "__notebook__.ipynb",
   "output_path": "__notebook__.ipynb",
   "parameters": {},
   "start_time": "2023-08-22T05:57:33.049296",
   "version": "2.4.0"
  }
 },
 "nbformat": 4,
 "nbformat_minor": 5
}
